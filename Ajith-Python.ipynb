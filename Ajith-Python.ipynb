{
  "nbformat": 4,
  "nbformat_minor": 0,
  "metadata": {
    "colab": {
      "provenance": [],
      "authorship_tag": "ABX9TyNfzGR9SfhALyMGoFeSnQkz",
      "include_colab_link": true
    },
    "kernelspec": {
      "name": "python3",
      "display_name": "Python 3"
    },
    "language_info": {
      "name": "python"
    }
  },
  "cells": [
    {
      "cell_type": "markdown",
      "metadata": {
        "id": "view-in-github",
        "colab_type": "text"
      },
      "source": [
        "<a href=\"https://colab.research.google.com/github/AsterAj/Ajith/blob/main/Ajith-Python.ipynb\" target=\"_parent\"><img src=\"https://colab.research.google.com/assets/colab-badge.svg\" alt=\"Open In Colab\"/></a>"
      ]
    },
    {
      "cell_type": "code",
      "execution_count": 2,
      "metadata": {
        "colab": {
          "base_uri": "https://localhost:8080/"
        },
        "id": "O4X2Qt41lj91",
        "outputId": "1474a7c6-e8fb-4fde-d3e5-f058199c90e4"
      },
      "outputs": [
        {
          "output_type": "stream",
          "name": "stdout",
          "text": [
            "enter the usernameAjith\n",
            "enter the passwordajith22\n",
            "login successful\n"
          ]
        }
      ],
      "source": [
        "username = input(\"enter the username\")\n",
        "password = input(\"enter the password\")\n",
        "if (username==\"Ajith\"and password==\"ajith22\"):\n",
        "  print(\"login successful\")\n",
        "else:\n",
        "  print(\"login unsuccessful\")"
      ]
    },
    {
      "cell_type": "code",
      "source": [
        "oddnum = [i for i in range(100)if i%3==0]\n",
        "print(oddnum)"
      ],
      "metadata": {
        "colab": {
          "base_uri": "https://localhost:8080/"
        },
        "id": "LH9Ww8dlmWXp",
        "outputId": "87c5b02c-fcd1-4178-e2d0-22c06ad2608c"
      },
      "execution_count": 3,
      "outputs": [
        {
          "output_type": "stream",
          "name": "stdout",
          "text": [
            "[0, 3, 6, 9, 12, 15, 18, 21, 24, 27, 30, 33, 36, 39, 42, 45, 48, 51, 54, 57, 60, 63, 66, 69, 72, 75, 78, 81, 84, 87, 90, 93, 96, 99]\n"
          ]
        }
      ]
    },
    {
      "cell_type": "code",
      "source": [
        "evennum=[i for i in range(100)if i%2==0]\n",
        "print(evennum)"
      ],
      "metadata": {
        "colab": {
          "base_uri": "https://localhost:8080/"
        },
        "id": "ROqYSNGTm0RJ",
        "outputId": "3cb79434-6812-4160-85fc-fe740a918fe5"
      },
      "execution_count": 4,
      "outputs": [
        {
          "output_type": "stream",
          "name": "stdout",
          "text": [
            "[0, 2, 4, 6, 8, 10, 12, 14, 16, 18, 20, 22, 24, 26, 28, 30, 32, 34, 36, 38, 40, 42, 44, 46, 48, 50, 52, 54, 56, 58, 60, 62, 64, 66, 68, 70, 72, 74, 76, 78, 80, 82, 84, 86, 88, 90, 92, 94, 96, 98]\n"
          ]
        }
      ]
    },
    {
      "cell_type": "code",
      "source": [
        "fruits=['apple','orange','fig','watermelon','grape']\n",
        "for fruits in fruits:\n",
        "  print(fruits)"
      ],
      "metadata": {
        "colab": {
          "base_uri": "https://localhost:8080/"
        },
        "id": "6jiwgV23nGGt",
        "outputId": "732f26fc-bc2a-4b36-b957-cec6ce84080f"
      },
      "execution_count": 5,
      "outputs": [
        {
          "output_type": "stream",
          "name": "stdout",
          "text": [
            "apple\n",
            "orange\n",
            "fig\n",
            "watermelon\n",
            "grape\n"
          ]
        }
      ]
    },
    {
      "cell_type": "code",
      "source": [],
      "metadata": {
        "id": "0OyJvjnbnAop"
      },
      "execution_count": null,
      "outputs": []
    }
  ]
}